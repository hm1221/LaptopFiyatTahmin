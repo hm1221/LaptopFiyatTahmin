{
 "cells": [
  {
   "cell_type": "code",
   "execution_count": 6,
   "id": "85a81ef5-5141-4aab-9964-733b410b6c70",
   "metadata": {
    "tags": []
   },
   "outputs": [],
   "source": [
    "import streamlit as st\n",
    "import pandas as pd\n",
    "import joblib\n",
    "\n",
    "model = joblib.load('model.sav')\n",
    "\n",
    "\n",
    "encoding_info = {\n",
    "   'Ekran Boyutu': {'13,4 inç': 0, '14 inç': 1, '15,6 inç': 2, '16 inç': 3, '16,1 inç': 4, '17 inç': 5, '17,3 inç': 6, '18 inç': 7}, \n",
    "    'Ekran Kartı': {'AMD Radeon RX6500M': 0,'Intel Iris Graphics': 2, 'Nvidia GeForce GTX 1650': 3, 'Nvidia GeForce GTX1650 Ti': 4, 'Nvidia GeForce MX350': 5, 'Nvidia GeForce MX450': 6, 'Nvidia GeForce MX550': 7, 'Nvidia GeForce RTX 2050': 8, 'Nvidia GeForce RTX 3050': 9, 'Nvidia GeForce RTX 3050 Ti': 10, 'Nvidia GeForce RTX 3060 Ti': 11, 'Nvidia GeForce RTX 3070': 12, 'Nvidia GeForce RTX 3070Ti': 13, 'Nvidia GeForce RTX 3080': 14, 'Nvidia GeForce RTX 4050': 15, 'Nvidia GeForce RTX 4060': 16, 'Nvidia GeForce RTX 4070': 17, 'Nvidia GeForce RTX 4080': 18, 'Nvidia GeForce RTX 4090': 19, 'Nvidia GeForce RTX3060': 20},\n",
    "    'Ekran Kartı Hafızası': {'12 GB': 0, '16 GB': 1, '2 GB': 2, '4 GB': 3, '6 GB': 4, '8 GB': 5},\n",
    "    'Ekran Yenileme Hızı': {'120 Hz': 0, '144 Hz': 1, '165 Hz': 2, '240 Hz': 3, '360 Hz': 4, '480 Hz': 5, '60 Hz': 6, '90 Hz': 7}, 'Garanti Süresi': {'2 Yıl': 0, '3 Yıl': 1},\n",
    "    'Klavye': {'Q Türkçe': 0, 'Q Türkçe (Aydınlatmalı)': 1, 'Q Türkçe (Aydınlatmasız)': 2, 'Q Türkçe (RGB Aydınlatmalı)': 3, 'Q Türkçe + Numerik (Aydınlatmalı)': 4, 'Q Türkçe + Numerik (Aydınlatmasız)': 5, 'Q Türkçe + Numerik (RGB Aydınlatmalı)': 6, 'Q İngilizce': 7, 'RGB Türkçe': 8},\n",
    "    'Panel Tipi': {'Anti-Glare': 0, 'Full HD': 1, 'IPS': 2, 'LED': 3, 'Mikro Kenarlı': 4, 'SVA': 5, 'TN': 6, 'VA': 7}, \n",
    "    'Çözünürlük': {'1800 x 1200': 0, '1920 x 1080': 1, '1920 x 1200': 2, '2160 x 1440': 3, '2560 x 1440': 4, '2560 x 1600': 5, '2880 x 1800': 6, '3200 x 1800': 7, '3840 x 2160': 8},\n",
    "    'Çözünürlük Standartı': {'FHD+': 0, 'Full HD (FHD)': 1, 'QHD': 2, 'QHD+': 3, 'Ultra HD 4K (UHD)': 4, 'WQHD': 5, 'WQXGA': 6, 'WUXGA': 7}, 'İşlemci Modeli': {'10300H': 0, '11320H': 1, '1135G7': 2, '11370H': 3, '11390H': 4, '11400': 5, '11400H': 6, '11600H': 7, '11800H': 8, '1235U': 9, '12450H': 10, '12500H': 11, '1255U': 12, '1260p': 13, '12650H': 14, '12700H': 15, '1280P': 16, '12900H': 17, '13420H': 18, '13450HX': 19, '13500H': 20, '13500HX': 21, '13620H': 22, '13650HX': 23, '13700H': 24, '13700HX': 25, '13900H': 26, '13900HX': 27, '13950HX': 28, '13980HX': 29, '14500HX': 30, '14700HX': 31, '14900HX': 32, '3700X': 33, '4600H': 34, '4800H': 35, '550': 36, '5600H': 37, '5800H': 38, '660': 39, '6600H': 40, '6800H': 41, '6800HS': 42, '6900HX': 43, '7535HS': 44, '7640HS': 45, '7735HS': 46, '7840HS': 47, '7845HX': 48, '7940HS': 49, '7945HX': 50, '7Y75': 51, '8100': 52, '9750H': 53}, \n",
    "    'İşlemci Tipi': {'AMD Ryzen 5': 0, 'AMD Ryzen 7': 1, 'AMD Ryzen 9': 2, 'Intel Core i5': 3, 'Intel Core i7': 4, 'Intel Core i9': 5}, \n",
    "    'İşlemci Çekirdek Sayısı': {'10': 0, '12': 1, '14': 2, '16': 3, '24': 4, '4': 5, '6': 6, '8': 7}, \n",
    "    'İşletim Sistemi': {'Free Dos': 0, 'Linux': 1, 'Windows': 2}, \n",
    "    'marka': {'ACER': 0, 'ASUS': 1, 'Casper': 2, 'Dell': 3, 'Game Garaj': 4, 'Gigabyte': 5, 'HP': 6, 'LENOVO': 7, 'MSI': 8, 'Monster': 9, 'Technopc': 10}, \n",
    "    'SSD Kapasitesi': {'1 TB': 0, '2 TB': 1, '256 GB': 2, '4 TB': 3, '500 GB': 4, '512 GB': 5}, \n",
    "    'Ram (Sistem Belleği)': {'16 GB': 0, '24 GB': 1, '32 GB': 2, '40 GB': 3, '48 GB': 4, '64 GB': 5, '8 GB': 6}, 'Ram (Sistem Belleği) Tipi': {'DDR4': 0, 'DDR5': 1, 'DDR6': 2, 'LPDDR5': 3}}\n",
    "\n",
    "st.title(\"Gaming Laptop Fiyat Tahmin Uygulaması\")\n",
    "ekran_boyutu = st.selectbox(\"Ekran Boyutu\", list(encoding_info['Ekran Boyutu'].keys()))\n",
    "ekran_karti = st.selectbox(\"Ekran Kartı\", list(encoding_info['Ekran Kartı'].keys()))\n",
    "ekran_karti_hafizasi = st.selectbox(\"Ekran Kartı Hafızası\", list(encoding_info['Ekran Kartı Hafızası'].keys()))\n",
    "ekran_yenileme_hizi = st.selectbox(\"Ekran Yenileme Hızı\", list(encoding_info['Ekran Yenileme Hızı'].keys()))\n",
    "klavye = st.selectbox(\"Klavye\", list(encoding_info['Klavye'].keys()))\n",
    "panel_tipi = st.selectbox(\"Panel Tipi\", list(encoding_info['Panel Tipi'].keys()))\n",
    "ram_bellek = st.selectbox(\"Ram (Sistem Belleği)\", list(encoding_info['Ram (Sistem Belleği)'].keys()))\n",
    "ram_tipi = st.selectbox(\"Ram (Sistem Belleği) Tipi\", list(encoding_info['Ram (Sistem Belleği) Tipi'].keys()))\n",
    "ssd_kapasitesi = st.selectbox(\"SSD Kapasitesi\", list(encoding_info['SSD Kapasitesi'].keys()))\n",
    "cozunurluk = st.selectbox(\"Çözünürlük\", list(encoding_info['Çözünürlük'].keys()))\n",
    "cozunurluk_standarti = st.selectbox(\"Çözünürlük Standartı\", list(encoding_info['Çözünürlük Standartı'].keys()))\n",
    "islemci_modeli = st.selectbox(\"İşlemci Modeli\", list(encoding_info['İşlemci Modeli'].keys()))\n",
    "islemci_tipi = st.selectbox(\"İşlemci Tipi\", list(encoding_info['İşlemci Tipi'].keys()))\n",
    "islemci_cikirdek_sayisi = st.selectbox(\"İşlemci Çekirdek Sayısı\", list(encoding_info['İşlemci Çekirdek Sayısı'].keys()))\n",
    "isletim_sistemi = st.selectbox(\"İşletim Sistemi\", list(encoding_info['İşletim Sistemi'].keys()))\n",
    "marka = st.selectbox(\"Marka\", list(encoding_info['marka'].keys()))\n",
    "\n",
    "input_data = {\n",
    "    'Ekran Boyutu': [encoding_info['Ekran Boyutu'][ekran_boyutu]],\n",
    "    'Ekran Kartı': [encoding_info['Ekran Kartı'][ekran_karti]],\n",
    "    'Ekran Kartı Hafızası': [encoding_info['Ekran Kartı Hafızası'][ekran_karti_hafizasi]],\n",
    "    'Ekran Yenileme Hızı': [encoding_info['Ekran Yenileme Hızı'][ekran_yenileme_hizi]],\n",
    "    'Klavye': [encoding_info['Klavye'][klavye]],\n",
    "    'Panel Tipi': [encoding_info['Panel Tipi'][panel_tipi]],\n",
    "    'Ram (Sistem Belleği)': [encoding_info['Ram (Sistem Belleği)'][ram_bellek]],\n",
    "    'Ram (Sistem Belleği) Tipi': [encoding_info['Ram (Sistem Belleği) Tipi'][ram_tipi]],\n",
    "    'SSD Kapasitesi': [encoding_info['SSD Kapasitesi'][ssd_kapasitesi]],\n",
    "    'Çözünürlük': [encoding_info['Çözünürlük'][cozunurluk]],\n",
    "    'Çözünürlük Standartı': [encoding_info['Çözünürlük Standartı'][cozunurluk_standarti]],\n",
    "    'İşlemci Modeli': [encoding_info['İşlemci Modeli'][islemci_modeli]],\n",
    "    'İşlemci Tipi': [encoding_info['İşlemci Tipi'][islemci_tipi]],\n",
    "    'İşlemci Çekirdek Sayısı': [encoding_info['İşlemci Çekirdek Sayısı'][islemci_cikirdek_sayisi]],\n",
    "    'İşletim Sistemi': [encoding_info['İşletim Sistemi'][isletim_sistemi]],\n",
    "    'marka': [encoding_info['marka'][marka]],\n",
    "}\n",
    "\n",
    "prediction = model.predict(pd.DataFrame(input_data))\n",
    "\n",
    "st.write(\"Tahmin Edilen Fiyat:\", prediction[0])\n",
    "\n"
   ]
  },
  {
   "cell_type": "code",
   "execution_count": 7,
   "id": "c70a69e5-1eb4-4906-a9a6-6138743bdb9b",
   "metadata": {
    "tags": []
   },
   "outputs": [
    {
     "name": "stdout",
     "output_type": "stream",
     "text": [
      "Defaulting to user installation because normal site-packages is not writeable\n",
      "Requirement already satisfied: streamlit in c:\\users\\hamzamutlu\\appdata\\roaming\\python\\python311\\site-packages (1.29.0)\n",
      "Requirement already satisfied: pandas in c:\\programdata\\anaconda3\\lib\\site-packages (2.0.3)\n",
      "Requirement already satisfied: joblib in c:\\programdata\\anaconda3\\lib\\site-packages (1.2.0)\n",
      "Requirement already satisfied: altair<6,>=4.0 in c:\\users\\hamzamutlu\\appdata\\roaming\\python\\python311\\site-packages (from streamlit) (5.2.0)\n",
      "Requirement already satisfied: blinker<2,>=1.0.0 in c:\\users\\hamzamutlu\\appdata\\roaming\\python\\python311\\site-packages (from streamlit) (1.7.0)\n",
      "Requirement already satisfied: cachetools<6,>=4.0 in c:\\users\\hamzamutlu\\appdata\\roaming\\python\\python311\\site-packages (from streamlit) (5.3.2)\n",
      "Requirement already satisfied: click<9,>=7.0 in c:\\programdata\\anaconda3\\lib\\site-packages (from streamlit) (8.0.4)\n",
      "Requirement already satisfied: importlib-metadata<7,>=1.4 in c:\\programdata\\anaconda3\\lib\\site-packages (from streamlit) (6.0.0)\n",
      "Requirement already satisfied: numpy<2,>=1.19.3 in c:\\programdata\\anaconda3\\lib\\site-packages (from streamlit) (1.24.3)\n",
      "Requirement already satisfied: packaging<24,>=16.8 in c:\\programdata\\anaconda3\\lib\\site-packages (from streamlit) (23.1)\n",
      "Requirement already satisfied: pillow<11,>=7.1.0 in c:\\programdata\\anaconda3\\lib\\site-packages (from streamlit) (9.4.0)\n",
      "Requirement already satisfied: protobuf<5,>=3.20 in c:\\users\\hamzamutlu\\appdata\\roaming\\python\\python311\\site-packages (from streamlit) (4.25.1)\n",
      "Requirement already satisfied: pyarrow>=6.0 in c:\\programdata\\anaconda3\\lib\\site-packages (from streamlit) (11.0.0)\n",
      "Requirement already satisfied: python-dateutil<3,>=2.7.3 in c:\\programdata\\anaconda3\\lib\\site-packages (from streamlit) (2.8.2)\n",
      "Requirement already satisfied: requests<3,>=2.27 in c:\\programdata\\anaconda3\\lib\\site-packages (from streamlit) (2.31.0)\n",
      "Requirement already satisfied: rich<14,>=10.14.0 in c:\\users\\hamzamutlu\\appdata\\roaming\\python\\python311\\site-packages (from streamlit) (13.7.0)\n",
      "Requirement already satisfied: tenacity<9,>=8.1.0 in c:\\programdata\\anaconda3\\lib\\site-packages (from streamlit) (8.2.2)\n",
      "Requirement already satisfied: toml<2,>=0.10.1 in c:\\programdata\\anaconda3\\lib\\site-packages (from streamlit) (0.10.2)\n",
      "Requirement already satisfied: typing-extensions<5,>=4.3.0 in c:\\programdata\\anaconda3\\lib\\site-packages (from streamlit) (4.7.1)\n",
      "Requirement already satisfied: tzlocal<6,>=1.1 in c:\\users\\hamzamutlu\\appdata\\roaming\\python\\python311\\site-packages (from streamlit) (5.2)\n",
      "Requirement already satisfied: validators<1,>=0.2 in c:\\users\\hamzamutlu\\appdata\\roaming\\python\\python311\\site-packages (from streamlit) (0.22.0)\n",
      "Requirement already satisfied: gitpython!=3.1.19,<4,>=3.0.7 in c:\\users\\hamzamutlu\\appdata\\roaming\\python\\python311\\site-packages (from streamlit) (3.1.40)\n",
      "Requirement already satisfied: pydeck<1,>=0.8.0b4 in c:\\users\\hamzamutlu\\appdata\\roaming\\python\\python311\\site-packages (from streamlit) (0.8.1b0)\n",
      "Requirement already satisfied: tornado<7,>=6.0.3 in c:\\programdata\\anaconda3\\lib\\site-packages (from streamlit) (6.3.2)\n",
      "Requirement already satisfied: watchdog>=2.1.5 in c:\\programdata\\anaconda3\\lib\\site-packages (from streamlit) (2.1.6)\n",
      "Requirement already satisfied: pytz>=2020.1 in c:\\programdata\\anaconda3\\lib\\site-packages (from pandas) (2023.3.post1)\n",
      "Requirement already satisfied: tzdata>=2022.1 in c:\\programdata\\anaconda3\\lib\\site-packages (from pandas) (2023.3)\n",
      "Requirement already satisfied: jinja2 in c:\\programdata\\anaconda3\\lib\\site-packages (from altair<6,>=4.0->streamlit) (3.1.2)\n",
      "Requirement already satisfied: jsonschema>=3.0 in c:\\programdata\\anaconda3\\lib\\site-packages (from altair<6,>=4.0->streamlit) (4.17.3)\n",
      "Requirement already satisfied: toolz in c:\\programdata\\anaconda3\\lib\\site-packages (from altair<6,>=4.0->streamlit) (0.12.0)\n",
      "Requirement already satisfied: colorama in c:\\programdata\\anaconda3\\lib\\site-packages (from click<9,>=7.0->streamlit) (0.4.6)\n",
      "Requirement already satisfied: gitdb<5,>=4.0.1 in c:\\users\\hamzamutlu\\appdata\\roaming\\python\\python311\\site-packages (from gitpython!=3.1.19,<4,>=3.0.7->streamlit) (4.0.11)\n",
      "Requirement already satisfied: zipp>=0.5 in c:\\programdata\\anaconda3\\lib\\site-packages (from importlib-metadata<7,>=1.4->streamlit) (3.11.0)\n",
      "Requirement already satisfied: six>=1.5 in c:\\programdata\\anaconda3\\lib\\site-packages (from python-dateutil<3,>=2.7.3->streamlit) (1.16.0)\n",
      "Requirement already satisfied: charset-normalizer<4,>=2 in c:\\programdata\\anaconda3\\lib\\site-packages (from requests<3,>=2.27->streamlit) (2.0.4)\n",
      "Requirement already satisfied: idna<4,>=2.5 in c:\\programdata\\anaconda3\\lib\\site-packages (from requests<3,>=2.27->streamlit) (3.4)\n",
      "Requirement already satisfied: urllib3<3,>=1.21.1 in c:\\programdata\\anaconda3\\lib\\site-packages (from requests<3,>=2.27->streamlit) (1.26.16)\n",
      "Requirement already satisfied: certifi>=2017.4.17 in c:\\programdata\\anaconda3\\lib\\site-packages (from requests<3,>=2.27->streamlit) (2023.7.22)\n",
      "Requirement already satisfied: markdown-it-py>=2.2.0 in c:\\programdata\\anaconda3\\lib\\site-packages (from rich<14,>=10.14.0->streamlit) (2.2.0)\n",
      "Requirement already satisfied: pygments<3.0.0,>=2.13.0 in c:\\programdata\\anaconda3\\lib\\site-packages (from rich<14,>=10.14.0->streamlit) (2.15.1)\n",
      "Requirement already satisfied: smmap<6,>=3.0.1 in c:\\users\\hamzamutlu\\appdata\\roaming\\python\\python311\\site-packages (from gitdb<5,>=4.0.1->gitpython!=3.1.19,<4,>=3.0.7->streamlit) (5.0.1)\n",
      "Requirement already satisfied: MarkupSafe>=2.0 in c:\\programdata\\anaconda3\\lib\\site-packages (from jinja2->altair<6,>=4.0->streamlit) (2.1.1)\n",
      "Requirement already satisfied: attrs>=17.4.0 in c:\\programdata\\anaconda3\\lib\\site-packages (from jsonschema>=3.0->altair<6,>=4.0->streamlit) (22.1.0)\n",
      "Requirement already satisfied: pyrsistent!=0.17.0,!=0.17.1,!=0.17.2,>=0.14.0 in c:\\programdata\\anaconda3\\lib\\site-packages (from jsonschema>=3.0->altair<6,>=4.0->streamlit) (0.18.0)\n",
      "Requirement already satisfied: mdurl~=0.1 in c:\\programdata\\anaconda3\\lib\\site-packages (from markdown-it-py>=2.2.0->rich<14,>=10.14.0->streamlit) (0.1.0)\n",
      "Note: you may need to restart the kernel to use updated packages.\n"
     ]
    }
   ],
   "source": [
    "pip install streamlit pandas joblib\n"
   ]
  },
  {
   "cell_type": "code",
   "execution_count": 8,
   "id": "0685921b-cec4-4a6c-8857-6a75b8997bfb",
   "metadata": {
    "tags": []
   },
   "outputs": [
    {
     "ename": "SyntaxError",
     "evalue": "invalid syntax (2971778031.py, line 1)",
     "output_type": "error",
     "traceback": [
      "\u001b[1;36m  Cell \u001b[1;32mIn[8], line 1\u001b[1;36m\u001b[0m\n\u001b[1;33m    streamlit run servisleme.py\u001b[0m\n\u001b[1;37m              ^\u001b[0m\n\u001b[1;31mSyntaxError\u001b[0m\u001b[1;31m:\u001b[0m invalid syntax\n"
     ]
    }
   ],
   "source": [
    "streamlit run servisleme.py\n"
   ]
  },
  {
   "cell_type": "code",
   "execution_count": null,
   "id": "8eb4c381-4f8a-4bd5-ae86-e8715b15b642",
   "metadata": {},
   "outputs": [],
   "source": []
  }
 ],
 "metadata": {
  "kernelspec": {
   "display_name": "Python 3 (ipykernel)",
   "language": "python",
   "name": "python3"
  },
  "language_info": {
   "codemirror_mode": {
    "name": "ipython",
    "version": 3
   },
   "file_extension": ".py",
   "mimetype": "text/x-python",
   "name": "python",
   "nbconvert_exporter": "python",
   "pygments_lexer": "ipython3",
   "version": "3.11.5"
  }
 },
 "nbformat": 4,
 "nbformat_minor": 5
}
